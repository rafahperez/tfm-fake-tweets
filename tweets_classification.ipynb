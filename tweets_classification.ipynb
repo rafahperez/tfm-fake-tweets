{
 "cells": [
  {
   "cell_type": "code",
   "execution_count": 175,
   "metadata": {},
   "outputs": [],
   "source": [
    "import pandas as pd\n",
    "from pathlib import Path"
   ]
  },
  {
   "cell_type": "code",
   "execution_count": null,
   "metadata": {},
   "outputs": [],
   "source": []
  },
  {
   "cell_type": "code",
   "execution_count": 176,
   "metadata": {},
   "outputs": [],
   "source": [
    "output_folder = Path.cwd() / Path('output/')\n",
    "no_fake_tweets_folder = output_folder / Path('tweets_generated/no_fake')\n",
    "fake_tweets_folder = output_folder / Path('tweets_generated/fake')\n",
    "all_tweets_folder = output_folder / Path('tweets_generated/all_tweets')"
   ]
  },
  {
   "cell_type": "markdown",
   "metadata": {},
   "source": [
    "### For all tweets"
   ]
  },
  {
   "cell_type": "code",
   "execution_count": 177,
   "metadata": {},
   "outputs": [
    {
     "data": {
      "text/plain": [
       "WindowsPath('C:/Users/RafaPC/Documents/Master_en_Ciencia_de_Datos/Trabajo_Fin_Master/tfm-fake-tweets/output/tweets_generated/all_tweets')"
      ]
     },
     "execution_count": 177,
     "metadata": {},
     "output_type": "execute_result"
    }
   ],
   "source": [
    "all_tweets_folder"
   ]
  },
  {
   "cell_type": "code",
   "execution_count": 178,
   "metadata": {},
   "outputs": [],
   "source": [
    "combined_all_tweet = pd.concat([pd.read_csv(child) for child in all_tweets_folder.iterdir()])"
   ]
  },
  {
   "cell_type": "code",
   "execution_count": 179,
   "metadata": {},
   "outputs": [],
   "source": [
    "combined_all_tweet = combined_all_tweet.rename(columns={'Text':'text'})['text'].reset_index(drop=True).copy()"
   ]
  },
  {
   "cell_type": "code",
   "execution_count": 180,
   "metadata": {},
   "outputs": [],
   "source": [
    "combined_all_tweet = combined_all_tweet.str.replace('<BOS>', '')"
   ]
  },
  {
   "cell_type": "code",
   "execution_count": 181,
   "metadata": {},
   "outputs": [
    {
     "data": {
      "text/plain": [
       "0    @realDonaldTrump 'YOU'LL have to come up with ...\n",
       "1    Thank you for the tremendous support of the LG...\n",
       "2    BREAKING: FBI reopening investigation into @Hi...\n",
       "3    We are moving forward as one united people.'-@...\n",
       "4    @NydiaSapphire: @realDonaldTrump Great intervi...\n",
       "Name: text, dtype: object"
      ]
     },
     "execution_count": 181,
     "metadata": {},
     "output_type": "execute_result"
    }
   ],
   "source": [
    "combined_all_tweet.head()"
   ]
  },
  {
   "cell_type": "code",
   "execution_count": 182,
   "metadata": {},
   "outputs": [
    {
     "name": "stdout",
     "output_type": "stream",
     "text": [
      "Requirement already satisfied: openpyxl in c:\\users\\rafapc\\.virtualenvs\\tfm-fake-tweets-kbgrgpww\\lib\\site-packages (3.0.5)\n",
      "Requirement already satisfied: jdcal in c:\\users\\rafapc\\.virtualenvs\\tfm-fake-tweets-kbgrgpww\\lib\\site-packages (from openpyxl) (1.4.1)\n",
      "Requirement already satisfied: et-xmlfile in c:\\users\\rafapc\\.virtualenvs\\tfm-fake-tweets-kbgrgpww\\lib\\site-packages (from openpyxl) (1.0.1)\n"
     ]
    }
   ],
   "source": [
    "!pip install openpyxl\n",
    "combined_all_tweet.to_excel(Path(output_folder / 'classification/all_tweets_to_clasify_more.xlsx'), index=False)"
   ]
  },
  {
   "cell_type": "markdown",
   "metadata": {},
   "source": [
    "### For no fake tweets"
   ]
  },
  {
   "cell_type": "code",
   "execution_count": 183,
   "metadata": {},
   "outputs": [
    {
     "data": {
      "text/plain": [
       "WindowsPath('C:/Users/RafaPC/Documents/Master_en_Ciencia_de_Datos/Trabajo_Fin_Master/tfm-fake-tweets/output/tweets_generated/no_fake')"
      ]
     },
     "execution_count": 183,
     "metadata": {},
     "output_type": "execute_result"
    }
   ],
   "source": [
    "no_fake_tweets_folder"
   ]
  },
  {
   "cell_type": "code",
   "execution_count": 184,
   "metadata": {},
   "outputs": [],
   "source": [
    "combined_no_fake_tweet = pd.concat([pd.read_csv(child) for child in no_fake_tweets_folder.iterdir()])"
   ]
  },
  {
   "cell_type": "code",
   "execution_count": 185,
   "metadata": {},
   "outputs": [],
   "source": [
    "combined_no_fake_tweet = combined_no_fake_tweet.rename(columns={'Text':'text'})['text'].reset_index(drop=True).copy()"
   ]
  },
  {
   "cell_type": "code",
   "execution_count": 186,
   "metadata": {},
   "outputs": [],
   "source": [
    "combined_no_fake_tweet = combined_no_fake_tweet.str.replace('<BOS>', '')"
   ]
  },
  {
   "cell_type": "code",
   "execution_count": 187,
   "metadata": {},
   "outputs": [
    {
     "data": {
      "text/plain": [
       "0    .@realDonaldTrump, have you had a drink since ...\n",
       "1     Hey @realDonaldTrump... If you want to know t...\n",
       "2     We can't see past @HillaryClinton's hypocrisy...\n",
       "3     I was impressed by how closely @HillaryClinto...\n",
       "4     Don't forget to set your clocks back 60 years...\n",
       "Name: text, dtype: object"
      ]
     },
     "execution_count": 187,
     "metadata": {},
     "output_type": "execute_result"
    }
   ],
   "source": [
    "combined_no_fake_tweet.head()"
   ]
  },
  {
   "cell_type": "code",
   "execution_count": 188,
   "metadata": {},
   "outputs": [
    {
     "name": "stdout",
     "output_type": "stream",
     "text": [
      "Requirement already satisfied: openpyxl in c:\\users\\rafapc\\.virtualenvs\\tfm-fake-tweets-kbgrgpww\\lib\\site-packages (3.0.5)\n",
      "Requirement already satisfied: jdcal in c:\\users\\rafapc\\.virtualenvs\\tfm-fake-tweets-kbgrgpww\\lib\\site-packages (from openpyxl) (1.4.1)\n",
      "Requirement already satisfied: et-xmlfile in c:\\users\\rafapc\\.virtualenvs\\tfm-fake-tweets-kbgrgpww\\lib\\site-packages (from openpyxl) (1.0.1)\n"
     ]
    }
   ],
   "source": [
    "!pip install openpyxl\n",
    "combined_no_fake_tweet.to_excel(Path(output_folder / 'classification/no_fake_tweets_to_clasify_more.xlsx'), index=False)"
   ]
  },
  {
   "cell_type": "markdown",
   "metadata": {},
   "source": [
    "### For Fake Tweets"
   ]
  },
  {
   "cell_type": "code",
   "execution_count": 189,
   "metadata": {},
   "outputs": [
    {
     "data": {
      "text/plain": [
       "WindowsPath('C:/Users/RafaPC/Documents/Master_en_Ciencia_de_Datos/Trabajo_Fin_Master/tfm-fake-tweets/output/tweets_generated/fake')"
      ]
     },
     "execution_count": 189,
     "metadata": {},
     "output_type": "execute_result"
    }
   ],
   "source": [
    "fake_tweets_folder"
   ]
  },
  {
   "cell_type": "code",
   "execution_count": 190,
   "metadata": {},
   "outputs": [],
   "source": [
    "combined_fake_tweet = pd.concat([pd.read_csv(child) for child in fake_tweets_folder.iterdir()])"
   ]
  },
  {
   "cell_type": "code",
   "execution_count": 191,
   "metadata": {},
   "outputs": [
    {
     "data": {
      "text/plain": [
       "(150, 3)"
      ]
     },
     "execution_count": 191,
     "metadata": {},
     "output_type": "execute_result"
    }
   ],
   "source": [
    "combined_fake_tweet.shape"
   ]
  },
  {
   "cell_type": "code",
   "execution_count": 192,
   "metadata": {},
   "outputs": [],
   "source": [
    "combined_fake_tweet = combined_fake_tweet.rename(columns={'Text':'text'})['text'].reset_index(drop=True).copy()"
   ]
  },
  {
   "cell_type": "code",
   "execution_count": 193,
   "metadata": {},
   "outputs": [],
   "source": [
    "combined_fake_tweet = combined_fake_tweet.str.replace('<BOS>', '')"
   ]
  },
  {
   "cell_type": "code",
   "execution_count": 194,
   "metadata": {},
   "outputs": [
    {
     "data": {
      "text/plain": [
       "0                       I'm speechless #ElectionNight \n",
       "1    .@realDonaldTrump's approval rating in the 20s...\n",
       "2     The media is corrupt. They are trying to cont...\n",
       "3    .@realDonaldTrump: 'We've got to get this over...\n",
       "4    .@realDonaldTrump: 'I have never had so many p...\n",
       "Name: text, dtype: object"
      ]
     },
     "execution_count": 194,
     "metadata": {},
     "output_type": "execute_result"
    }
   ],
   "source": [
    "combined_fake_tweet.head()"
   ]
  },
  {
   "cell_type": "code",
   "execution_count": 195,
   "metadata": {},
   "outputs": [
    {
     "name": "stdout",
     "output_type": "stream",
     "text": [
      "Requirement already satisfied: openpyxl in c:\\users\\rafapc\\.virtualenvs\\tfm-fake-tweets-kbgrgpww\\lib\\site-packages (3.0.5)\n",
      "Requirement already satisfied: jdcal in c:\\users\\rafapc\\.virtualenvs\\tfm-fake-tweets-kbgrgpww\\lib\\site-packages (from openpyxl) (1.4.1)\n",
      "Requirement already satisfied: et-xmlfile in c:\\users\\rafapc\\.virtualenvs\\tfm-fake-tweets-kbgrgpww\\lib\\site-packages (from openpyxl) (1.0.1)\n"
     ]
    }
   ],
   "source": [
    "!pip install openpyxl\n",
    "combined_fake_tweet.to_excel(Path(output_folder / 'classification/fake_tweets_to_clasify_more.xlsx'), index=False)"
   ]
  },
  {
   "cell_type": "markdown",
   "metadata": {},
   "source": [
    "### Create Contingency Table Fake Tweets"
   ]
  },
  {
   "cell_type": "code",
   "execution_count": 196,
   "metadata": {},
   "outputs": [],
   "source": [
    "output_folder = Path.cwd() / Path('output/')\n",
    "no_fake_tweets_classified = output_folder / Path('classification/classified_no_fake_tweets_more.xlsx')\n",
    "fake_tweets_classified = output_folder / Path('classification/classified_fake_tweets_more.xlsx')\n",
    "all_tweets_classified = output_folder / Path('classification/classified_all_tweets_more.xlsx')"
   ]
  },
  {
   "cell_type": "code",
   "execution_count": 197,
   "metadata": {},
   "outputs": [],
   "source": [
    "df_no_fake_tweets = pd.read_excel(no_fake_tweets_classified)\n",
    "df_fake_tweets = pd.read_excel(fake_tweets_classified)\n",
    "df_all_tweets = pd.read_excel(all_tweets_classified)"
   ]
  },
  {
   "cell_type": "code",
   "execution_count": 198,
   "metadata": {},
   "outputs": [],
   "source": [
    "tweets_gen_no_fake = df_no_fake_tweets['class'].value_counts()\n",
    "tweets_gen_fake = df_fake_tweets['class'].value_counts()\n",
    "tweets_gen_all = df_all_tweets['class'].value_counts()"
   ]
  },
  {
   "cell_type": "code",
   "execution_count": 199,
   "metadata": {},
   "outputs": [
    {
     "data": {
      "text/plain": [
       "Not fake    145\n",
       "Fake          5\n",
       "Name: class, dtype: int64"
      ]
     },
     "execution_count": 199,
     "metadata": {},
     "output_type": "execute_result"
    }
   ],
   "source": [
    "tweets_gen_fake"
   ]
  },
  {
   "cell_type": "code",
   "execution_count": 200,
   "metadata": {},
   "outputs": [
    {
     "data": {
      "text/plain": [
       "Not fake    147\n",
       "Fake          3\n",
       "Name: class, dtype: int64"
      ]
     },
     "execution_count": 200,
     "metadata": {},
     "output_type": "execute_result"
    }
   ],
   "source": [
    "tweets_gen_all"
   ]
  },
  {
   "cell_type": "code",
   "execution_count": 201,
   "metadata": {},
   "outputs": [
    {
     "data": {
      "text/plain": [
       "Not fake    150\n",
       "Name: class, dtype: int64"
      ]
     },
     "execution_count": 201,
     "metadata": {},
     "output_type": "execute_result"
    }
   ],
   "source": [
    "tweets_gen_no_fake"
   ]
  },
  {
   "cell_type": "code",
   "execution_count": 202,
   "metadata": {},
   "outputs": [],
   "source": [
    "contingency_table = pd.concat([tweets_gen_no_fake, tweets_gen_fake, tweets_gen_all], axis=1).fillna(0)"
   ]
  },
  {
   "cell_type": "code",
   "execution_count": 205,
   "metadata": {},
   "outputs": [],
   "source": [
    "contingency_table.columns = ['Fine-Tuning Not Fake', 'Fine-Tuning Fake', 'Fine-Tuning All']"
   ]
  },
  {
   "cell_type": "code",
   "execution_count": 206,
   "metadata": {},
   "outputs": [
    {
     "data": {
      "text/html": [
       "<div>\n",
       "<style scoped>\n",
       "    .dataframe tbody tr th:only-of-type {\n",
       "        vertical-align: middle;\n",
       "    }\n",
       "\n",
       "    .dataframe tbody tr th {\n",
       "        vertical-align: top;\n",
       "    }\n",
       "\n",
       "    .dataframe thead th {\n",
       "        text-align: right;\n",
       "    }\n",
       "</style>\n",
       "<table border=\"1\" class=\"dataframe\">\n",
       "  <thead>\n",
       "    <tr style=\"text-align: right;\">\n",
       "      <th></th>\n",
       "      <th>Not fake</th>\n",
       "      <th>Fake</th>\n",
       "    </tr>\n",
       "  </thead>\n",
       "  <tbody>\n",
       "    <tr>\n",
       "      <th>Fine-Tuning Not Fake</th>\n",
       "      <td>150.0</td>\n",
       "      <td>0.0</td>\n",
       "    </tr>\n",
       "    <tr>\n",
       "      <th>Fine-Tuning Fake</th>\n",
       "      <td>145.0</td>\n",
       "      <td>5.0</td>\n",
       "    </tr>\n",
       "    <tr>\n",
       "      <th>Fine-Tuning All</th>\n",
       "      <td>147.0</td>\n",
       "      <td>3.0</td>\n",
       "    </tr>\n",
       "  </tbody>\n",
       "</table>\n",
       "</div>"
      ],
      "text/plain": [
       "                      Not fake  Fake\n",
       "Fine-Tuning Not Fake     150.0   0.0\n",
       "Fine-Tuning Fake         145.0   5.0\n",
       "Fine-Tuning All          147.0   3.0"
      ]
     },
     "execution_count": 206,
     "metadata": {},
     "output_type": "execute_result"
    }
   ],
   "source": [
    "contingency_table.T"
   ]
  },
  {
   "cell_type": "code",
   "execution_count": null,
   "metadata": {},
   "outputs": [],
   "source": []
  }
 ],
 "metadata": {
  "kernelspec": {
   "display_name": "Python 3",
   "language": "python",
   "name": "python3"
  },
  "language_info": {
   "codemirror_mode": {
    "name": "ipython",
    "version": 3
   },
   "file_extension": ".py",
   "mimetype": "text/x-python",
   "name": "python",
   "nbconvert_exporter": "python",
   "pygments_lexer": "ipython3",
   "version": "3.7.8"
  }
 },
 "nbformat": 4,
 "nbformat_minor": 4
}
